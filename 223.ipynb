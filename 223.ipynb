{
  "nbformat": 4,
  "nbformat_minor": 0,
  "metadata": {
    "kernelspec": {
      "display_name": "Python 3",
      "language": "python",
      "name": "python3"
    },
    "language_info": {
      "codemirror_mode": {
        "name": "ipython",
        "version": 3
      },
      "file_extension": ".py",
      "mimetype": "text/x-python",
      "name": "python",
      "nbconvert_exporter": "python",
      "pygments_lexer": "ipython3",
      "version": "3.7.6"
    },
    "colab": {
      "name": "223.ipynb",
      "provenance": []
    }
  },
  "cells": [
    {
      "cell_type": "markdown",
      "metadata": {
        "id": "i8180vCKRlrU"
      },
      "source": [
        "# Module 2: Data Engineering\n",
        "## Sprint 2: SQL and Data Scraping\n",
        "## Subproject 3: Web scraping"
      ]
    },
    {
      "cell_type": "markdown",
      "metadata": {
        "id": "X3kKH4yURlrY"
      },
      "source": [
        "During this lesson, you will learn all that you need to know to start scraping the internet. You will get familiar with the structure of websites, key elements of HTML. You will be introduced to the `requests` and `bs4` libraries that combined enable robust web scraping workflow that can be used to create datasets."
      ]
    },
    {
      "cell_type": "markdown",
      "metadata": {
        "id": "EIz-4OtfRlrZ"
      },
      "source": [
        "## Learning outcomes\n",
        "- At the end of this lesson you will be able to create web page's scraping strategy\n",
        "- You will be able to understand HTML document's structure\n",
        "- You will know how to extract specific information form websites\n",
        "- You will know how to scrape websites to create your own datasets"
      ]
    },
    {
      "cell_type": "markdown",
      "metadata": {
        "id": "sqn7PwXaRlrb"
      },
      "source": [
        "---"
      ]
    },
    {
      "cell_type": "markdown",
      "metadata": {
        "id": "faCn03qoRlrb"
      },
      "source": [
        "## Why we scrape the internet?\n",
        "Data science without data is not much of a science. In most cases, you can find many great curated clean datasets online (for example Kaggle). Sometimes you need specific data for your project to succeed. How can you collect one? Well, you can always search the web for particular information and manually create your own dataset. Unfortunately, these days many models require quite large data samples and it would be time-consuming and sometimes even impossible to manually collect +10k individual samples to your dataset. Luckily for us, there is one great method that enables us to automate this process. It is called data scraping. This technique is widely used by software agents for different purposes. One of the examples is Google. The software giant goes to every page, scans it, and puts the information into its databases for later indexing."
      ]
    },
    {
      "cell_type": "markdown",
      "metadata": {
        "id": "kW3XMLkfRlrd"
      },
      "source": [
        "## What is a Webpage?\n",
        "Almost all web pages are text documents presented in `.html` format. HTML is a markup language similar to Markdown that you use to write README files on GitHub. To be able to scrape information from HTML files, first, you need to understand how to create one. You have to watch [this](https://www.youtube.com/watch?v=pQN-pnXPaVg) freecodecamp video that explains the main concepts of creating **HTML based** website. Later, we will take a closer look into individual subjects."
      ]
    },
    {
      "cell_type": "markdown",
      "metadata": {
        "id": "MoT7IBnDRlre"
      },
      "source": [
        "## Anatomy of an HTML element\n",
        "### Nesting elements\n",
        "Every HTML element lives inside other HTML element. HTML documents have their own strict structure. Here is a base skeleton of every HTML document:\n",
        "```html\n",
        "<!DOCTYPE html>\n",
        "<html>\n",
        "    <head>\n",
        "        <title>Page Title</title>\n",
        "    </head>\n",
        "    <body>\n",
        "        <h1>My First Heading</h1>\n",
        "        <p>My first paragraph.</p>\n",
        "    </body>\n",
        "</html> \n",
        "```\n",
        "As you can see there are three main parts of the HTML document:\n",
        "* `<html>` - place where all html content rests in\n",
        "* `<head>` - place where meta information of page is placed: title, scripts, stylesheets, etc.\n",
        "* `<body>` - the main part of the document: all information is placed here"
      ]
    },
    {
      "cell_type": "markdown",
      "metadata": {
        "id": "XPDDjgkJRlrf"
      },
      "source": [
        "### Tags, Classes and Ids\n",
        "As you will primarily be working with getting information from HTML documents, let's talk about what you can find inside `<body>` part. All information inside HTML documents is presented via [html tags](https://developer.mozilla.org/en-US/docs/Web/HTML/Element). There is a large number of HTML tags available but almost all of them share the same properties: they are place of some block inside the document and they format presented information. For example:\n",
        "```html\n",
        "<div class=\"content\">\n",
        "    <h1>Text</h1>\n",
        "    <h2 id=\"subtxt\">Subtext</h2>\n",
        "</div>\n",
        "```\n",
        "As you can see, elements are nested inside other elements. Information is presented inside HTML tags. HTML elements can be differentiated using **class** and **id**. Classes are used to group certain elements and apply scripts and styles to them. The same is with ids but the idea is that ids should be unique per document but sadly this is not always the case. Why tags and classes are important to us? We can use them to select parts of the HTML element that we want to extract information from. Let's say there is a page where capitals and native language of EU countries are listed:"
      ]
    },
    {
      "cell_type": "markdown",
      "metadata": {
        "id": "r4UpvrjIRlrh"
      },
      "source": [
        "```html\n",
        "<div>\n",
        "    <ul class=\"capitals\">\n",
        "        <li>Vilnius</li>\n",
        "        <li>Paris</li>\n",
        "        <li>Riga</li>\n",
        "        <li>Tallinn</li>\n",
        "    </ul>\n",
        "    <ul class=\"languages\">\n",
        "        <li>Lithuanian</li>\n",
        "        <li>French</li>\n",
        "        <li>Latvian</li>\n",
        "        <li>Estonian</li>\n",
        "    </ul>\n",
        "</div>\n",
        "```\n",
        "If you just select `li` as the tag you want to extract information from you will get all: capitals and languages but you want only capitals. `ul` selection also would not give an expected result as there are two `ul` lists in the document. What you want to do is to select `.capitals ul` - by providing class we are able to select distinct `ul` and extract wanted information.\n",
        "\n",
        "[Here](https://developer.mozilla.org/en-US/docs/Learn/HTML/Introduction_to_HTML) is a full introduction to HTML made Mozilla. You can complete all of it if you want to get deep knowledge in the subject. If you want just do some web scraping, knowledge of the HTML file structure and its elements is more than enough."
      ]
    },
    {
      "cell_type": "markdown",
      "metadata": {
        "id": "hlQxnv_sRlrj"
      },
      "source": [
        "## Web Scraping\n",
        "As mentioned in the beginning of the lesson, web scraping is used to automate information collection from websites and to create datasets for later usage. There are many great tools that can be used to scrape websites. Most popular ones are:\n",
        "* [Beautiful Soup](https://www.crummy.com/software/BeautifulSoup/bs4/doc/)\n",
        "* [Scrapy](https://scrapy.org/)\n",
        "* [Selenium](https://www.selenium.dev/)\n",
        "\n",
        "Scrapy is a more advanced tool that need a bit more setup, Selenium is really similar to Beautiful Soup but Beautiful Soup is more popular and easier to use option, so in this lesson we will be scraping websites using this tool.\n",
        "First, you should watch [this freecodecamp video](https://www.youtube.com/watch?v=87Gx3U0BDlo) about Soup that covers all basic usages."
      ]
    },
    {
      "cell_type": "markdown",
      "metadata": {
        "id": "rZKDB_ZERlrk"
      },
      "source": [
        "## Setup\n",
        "Setup of Soup is simple and does not require any difficult steps to be made. Just use `pip` to install it:"
      ]
    },
    {
      "cell_type": "code",
      "metadata": {
        "id": "2cDSd-1GRlrl",
        "outputId": "b6f351c7-8e58-4eb9-df38-3de4fbbc3976"
      },
      "source": [
        "!pip install beautifulsoup4"
      ],
      "execution_count": null,
      "outputs": [
        {
          "output_type": "stream",
          "text": [
            "Collecting beautifulsoup4\n",
            "  Downloading beautifulsoup4-4.9.3-py3-none-any.whl (115 kB)\n",
            "\u001b[K     |████████████████████████████████| 115 kB 1.1 MB/s eta 0:00:01\n",
            "\u001b[?25hCollecting soupsieve>1.2; python_version >= \"3.0\"\n",
            "  Using cached soupsieve-2.0.1-py3-none-any.whl (32 kB)\n",
            "Installing collected packages: soupsieve, beautifulsoup4\n",
            "Successfully installed beautifulsoup4-4.9.3 soupsieve-2.0.1\n",
            "\u001b[33mWARNING: You are using pip version 20.1.1; however, version 20.2.4 is available.\n",
            "You should consider upgrading via the '/Users/dqmis/Documents/data-science-course/course/.venv/bin/python -m pip install --upgrade pip' command.\u001b[0m\n"
          ],
          "name": "stdout"
        }
      ]
    },
    {
      "cell_type": "markdown",
      "metadata": {
        "id": "lZ1M_G1KRlrn"
      },
      "source": [
        "Now we can use it to extract information from HTML elements:"
      ]
    },
    {
      "cell_type": "code",
      "metadata": {
        "id": "w5TBHTGORlro",
        "outputId": "b823f5d9-76f0-420d-ce06-02e12a33b313"
      },
      "source": [
        "from bs4 import BeautifulSoup\n",
        "\n",
        "# Defining some HTML format text\n",
        "html_doc = \"\"\"\n",
        "<html>\n",
        "<head><title>Example text</title></head>\n",
        "<body><p class=\"text\">Text to extract</p></body>\n",
        "</html>\n",
        "\"\"\"\n",
        "\n",
        "# Creating soup object using BeutifulSoup\n",
        "soup = BeautifulSoup(html_doc, \"html.parser\")\n",
        "\n",
        "# Finding all elements inside HTML that have p tag and text class\n",
        "p_results = soup.find_all(\"p\", class_=\"text\")\n",
        "\n",
        "# Extracting text value from found elements\n",
        "for p_result in p_results:\n",
        "    print(p_result.text)"
      ],
      "execution_count": null,
      "outputs": [
        {
          "output_type": "stream",
          "text": [
            "Text to extract\n"
          ],
          "name": "stdout"
        }
      ]
    },
    {
      "cell_type": "markdown",
      "metadata": {
        "id": "h8Ajja3eRlrp"
      },
      "source": [
        "As you can see from the example, we successfully found desired elements in the HTML document and extracted text values from them. This is pretty neat but the power of web scraping comes from automation and real-world examples. So now let's talk about how to extract information from real web pages. "
      ]
    },
    {
      "cell_type": "markdown",
      "metadata": {
        "id": "e1kj5vh-Rlrp"
      },
      "source": [
        "## Downloading pages\n",
        "To get HTML format document to extract data from you need to download it. It is not that difficult if you are using Python `requests`. We will use a popular forum [Hacker News](https://news.ycombinator.com/) as a website that we will scrape information from:"
      ]
    },
    {
      "cell_type": "code",
      "metadata": {
        "id": "czaqkezPRlrq",
        "outputId": "2e6a9055-1aeb-43b0-e79f-cb4c24cec9ba"
      },
      "source": [
        "import requests\n",
        "\n",
        "URL = \"https://news.ycombinator.com/\"\n",
        "page = requests.get(URL)\n",
        "\n",
        "page"
      ],
      "execution_count": null,
      "outputs": [
        {
          "output_type": "execute_result",
          "data": {
            "text/plain": [
              "<Response [200]>"
            ]
          },
          "metadata": {
            "tags": []
          },
          "execution_count": 10
        }
      ]
    },
    {
      "cell_type": "markdown",
      "metadata": {
        "id": "-1iPe717Rlrr"
      },
      "source": [
        "Some websites can be protected from web scraping. In this case, you need to find ways of exploiting their systems. Most of the time addition of `User-Agent` header in the request should do the thing"
      ]
    },
    {
      "cell_type": "code",
      "metadata": {
        "id": "vGmVdLxeRlru",
        "outputId": "bf99feae-caeb-48d4-e0d3-71838ab58399"
      },
      "source": [
        "headers = {\"User-Agent\": \"Mozilla/5.0\"}\n",
        "\n",
        "URL = \"https://news.ycombinator.com/\"\n",
        "page = requests.get(URL, headers=headers)\n",
        "\n",
        "page"
      ],
      "execution_count": null,
      "outputs": [
        {
          "output_type": "execute_result",
          "data": {
            "text/plain": [
              "<Response [200]>"
            ]
          },
          "metadata": {
            "tags": []
          },
          "execution_count": 13
        }
      ]
    },
    {
      "cell_type": "markdown",
      "metadata": {
        "id": "mpkFtcf9Rlrv"
      },
      "source": [
        "## Looking for text\n",
        "Now that we have a page downloaded we can start extracting information from it. First, we need to find exact parts of the page we want to get text from. We can do it by going to the web page and using [inspect element](https://zapier.com/blog/inspect-element-tutorial/) functionality of your browser. Let's say we want to collect titles of all posts in the page:\n",
        "<div><img src=\"https://i.imgur.com/HJ8DwAN.png\" width=\"600px\"/></div>\n",
        "We can see that information that we need is inside the `<a>` tag with the `storylink` class. We can use `soup` to extract the information by providing newly learned properties of the elements:"
      ]
    },
    {
      "cell_type": "code",
      "metadata": {
        "id": "kriZUExGRlrv"
      },
      "source": [
        "headers = {\"User-Agent\": \"Mozilla/5.0\"}\n",
        "\n",
        "URL = \"https://news.ycombinator.com/\"\n",
        "page = requests.get(URL, headers=headers)\n",
        "\n",
        "soup = BeautifulSoup(page.content, \"html.parser\")\n",
        "\n",
        "for title in soup.find_all(\"a\", class_=\"storylink\"):\n",
        "    print(title.text)"
      ],
      "execution_count": null,
      "outputs": []
    },
    {
      "cell_type": "markdown",
      "metadata": {
        "id": "oJKh1oQ2Rlrw"
      },
      "source": [
        "## Storing collected data\n",
        "You can use collected data to create pandas DataFrames. This enables you to make various data processing operations (removing corrupted information, filling in missing data). Pandas will also make your life easier when you will need to export collected information to `csv` files or insert data to databases."
      ]
    },
    {
      "cell_type": "code",
      "metadata": {
        "id": "2K9piJ1-Rlrw"
      },
      "source": [
        "# Run this if needed\n",
        "!pip install pandas"
      ],
      "execution_count": null,
      "outputs": []
    },
    {
      "cell_type": "code",
      "metadata": {
        "id": "J1VE9yOpRlrx",
        "outputId": "5335ba02-2ac7-4951-b0a4-0eeb8d15d348"
      },
      "source": [
        "import pandas as pd\n",
        "\n",
        "page = requests.get(\"https://news.ycombinator.com/\", headers={\"User-Agent\": \"Mozilla/5.0\"})\n",
        "\n",
        "soup = BeautifulSoup(page.content, \"html.parser\")\n",
        "\n",
        "collected_information = [{\"title\": title.text} for title in soup.find_all(\"a\", class_=\"storylink\")]\n",
        "\n",
        "df = pd.DataFrame(collected_information)\n",
        "df.head()"
      ],
      "execution_count": null,
      "outputs": [
        {
          "output_type": "execute_result",
          "data": {
            "text/html": [
              "<div>\n",
              "<style scoped>\n",
              "    .dataframe tbody tr th:only-of-type {\n",
              "        vertical-align: middle;\n",
              "    }\n",
              "\n",
              "    .dataframe tbody tr th {\n",
              "        vertical-align: top;\n",
              "    }\n",
              "\n",
              "    .dataframe thead th {\n",
              "        text-align: right;\n",
              "    }\n",
              "</style>\n",
              "<table border=\"1\" class=\"dataframe\">\n",
              "  <thead>\n",
              "    <tr style=\"text-align: right;\">\n",
              "      <th></th>\n",
              "      <th>title</th>\n",
              "    </tr>\n",
              "  </thead>\n",
              "  <tbody>\n",
              "    <tr>\n",
              "      <th>0</th>\n",
              "      <td>Six GRU Officers Charged in Connection with Wo...</td>\n",
              "    </tr>\n",
              "    <tr>\n",
              "      <th>1</th>\n",
              "      <td>First Bitcoin “Mixer” Penalized for Violating ...</td>\n",
              "    </tr>\n",
              "    <tr>\n",
              "      <th>2</th>\n",
              "      <td>You don't need all those root certificates</td>\n",
              "    </tr>\n",
              "    <tr>\n",
              "      <th>3</th>\n",
              "      <td>No-till no-herbicide farming system in trial s...</td>\n",
              "    </tr>\n",
              "    <tr>\n",
              "      <th>4</th>\n",
              "      <td>This page is a truly naked, brutalist HTML quine</td>\n",
              "    </tr>\n",
              "  </tbody>\n",
              "</table>\n",
              "</div>"
            ],
            "text/plain": [
              "                                               title\n",
              "0  Six GRU Officers Charged in Connection with Wo...\n",
              "1  First Bitcoin “Mixer” Penalized for Violating ...\n",
              "2         You don't need all those root certificates\n",
              "3  No-till no-herbicide farming system in trial s...\n",
              "4   This page is a truly naked, brutalist HTML quine"
            ]
          },
          "metadata": {
            "tags": []
          },
          "execution_count": 21
        }
      ]
    },
    {
      "cell_type": "markdown",
      "metadata": {
        "id": "8Vo_W2_TRlrx"
      },
      "source": [
        "You can see how powerful `soup` is for doing web scraping tasks! "
      ]
    },
    {
      "cell_type": "markdown",
      "metadata": {
        "id": "wTa8JAqRRlry"
      },
      "source": [
        "## Exercise\n",
        "Now it is your time to shine: you will need to extract more information from the web page and put it inside pandas DataFrame. Write code inside the cells for tests below to pass."
      ]
    },
    {
      "cell_type": "code",
      "metadata": {
        "id": "-1ZDTSR1Rlry"
      },
      "source": [
        "# Get score of every element\n"
      ],
      "execution_count": null,
      "outputs": []
    },
    {
      "cell_type": "code",
      "metadata": {
        "id": "zZNxSX1hRlrz"
      },
      "source": [
        "assert type(collected_scores[0]) == dict\n",
        "assert list(collected_scores[0].keys())[0] == \"score\""
      ],
      "execution_count": null,
      "outputs": []
    },
    {
      "cell_type": "code",
      "metadata": {
        "id": "1BATCCj_Rlrz"
      },
      "source": [
        "# Get age of the post\n"
      ],
      "execution_count": null,
      "outputs": []
    },
    {
      "cell_type": "code",
      "metadata": {
        "id": "dKq09fOrRlr0"
      },
      "source": [
        "assert type(collected_age[0]) == dict\n",
        "assert list(collected_age[0].keys())[0] == \"post_age\""
      ],
      "execution_count": null,
      "outputs": []
    },
    {
      "cell_type": "code",
      "metadata": {
        "id": "G6lMd5sERlr1"
      },
      "source": [
        "# Get post's author.\n"
      ],
      "execution_count": null,
      "outputs": []
    },
    {
      "cell_type": "code",
      "metadata": {
        "id": "mGpDYcrGRlr1"
      },
      "source": [
        "assert type(collected_users[0]) == dict\n",
        "assert list(collected_users[0].keys())[0] == \"post_author\""
      ],
      "execution_count": null,
      "outputs": []
    },
    {
      "cell_type": "markdown",
      "metadata": {
        "id": "bI9XURmKRlr1"
      },
      "source": [
        "Now that you are able to extract information from the page, you need to automate this process and extract information from multiple pages at once and add the information to one `dict` (appending it to list). You will need to complete a function that returns a dataframe with columns: title, link, and age"
      ]
    },
    {
      "cell_type": "code",
      "metadata": {
        "id": "fGV9qPvLRy5Z"
      },
      "source": [
        "from bs4 import BeautifulSoup\n",
        "import requests\n",
        "import pandas as pd\n",
        "import time\n",
        "def collect_information(x):\n",
        "    collected_titles = []\n",
        "    collected_ages = []\n",
        "    collected_links = []\n",
        "    page_number = 1\n",
        "    \n",
        "    while page_number <= x:\n",
        "        url = \"https://news.ycombinator.com/news?p=\"\n",
        "        page = requests.get(url+str(page_number), headers={\"User-Agent\": \"Mozilla/5.0\"})\n",
        "        soup = BeautifulSoup(page.content, \"html.parser\")\n",
        "        for title in soup.find_all(\"a\", class_=\"storylink\"):\n",
        "            collected_titles.append(title.text)\n",
        "            collected_links.append(title.get(\"href\"))\n",
        "        for age in soup.find_all(\"span\", class_ = \"age\"):\n",
        "           collected_ages.append(age.text)\n",
        "        time.sleep(2)   \n",
        "        page_number += 1   \n",
        "    df = pd.DataFrame({'title': collected_titles, 'link' : collected_links, \"age\": collected_ages})\n",
        "        \n",
        "    return df\n"
      ],
      "execution_count": 73,
      "outputs": []
    },
    {
      "cell_type": "code",
      "metadata": {
        "id": "hXy-74khVNzQ"
      },
      "source": [
        "df = collect_information(5)"
      ],
      "execution_count": 74,
      "outputs": []
    },
    {
      "cell_type": "code",
      "metadata": {
        "id": "f0FfGZopRlr2"
      },
      "source": [
        "df = collect_information(2)\n",
        "assert df.shape == (60, 3)\n",
        "assert df.columns[0] == \"title\"\n",
        "\n",
        "df = collect_information(5)\n",
        "assert df.shape == (150, 3)\n",
        "assert df.columns[2] == \"age\""
      ],
      "execution_count": 75,
      "outputs": []
    },
    {
      "cell_type": "code",
      "metadata": {
        "id": "Gl3zv3HDY4s5",
        "outputId": "574d9526-1783-4b6b-f9d9-2950d2595925",
        "colab": {
          "base_uri": "https://localhost:8080/"
        }
      },
      "source": [
        "df.shape"
      ],
      "execution_count": 72,
      "outputs": [
        {
          "output_type": "execute_result",
          "data": {
            "text/plain": [
              "(150, 3)"
            ]
          },
          "metadata": {
            "tags": []
          },
          "execution_count": 72
        }
      ]
    },
    {
      "cell_type": "markdown",
      "metadata": {
        "id": "Uj7OL6fiRlr2"
      },
      "source": [
        "## Exercise\n",
        "This lesson for the sub-project you will need to scrape reddit's homepage. As it can be difficult to do it with the new Reddit's design, you can visit the old one instead - [old.reddit.com](https://old.reddit.com). You will need to complete these tasks:\n",
        "1. Visit old.reddit.com and look at its layout\n",
        "2. Create a function that can scrape pages of Reddit. It should return a dataset with: `post score`, `post title`, `post thumb URL`, `posts comments count`, `posts subreddit`. All the missing information should be replaced with `None` values\n",
        "3. Scrape website and create dataframe that has at least 300 rows\n",
        "4. Export dataframe's data to csv format and save it in your repository as `reddit_data.csv`\n",
        "\n",
        "**IMPORTANT**: You might want to check out [this](https://pypi.org/project/fake-useragent/) Python package that creates a fake user agent for the request.\n",
        "\n",
        "Do not forget to write clean code!\n"
      ]
    },
    {
      "cell_type": "markdown",
      "metadata": {
        "id": "ZEZKfD51Rlr2"
      },
      "source": [
        "---"
      ]
    },
    {
      "cell_type": "code",
      "metadata": {
        "id": "CzRB3V6ncMur"
      },
      "source": [
        "page = requests.get(\"https://old.reddit.com/\", headers={\"User-Agent\": \"Mozilla/5.0\"})\n",
        "collected_titles = []\n",
        "soup = BeautifulSoup(page.content, \"html.parser\")\n",
        "for title in soup.find_all(\"a\", class_=\"title may-blank\"):\n",
        "    collected_titles.append(title.text)"
      ],
      "execution_count": 93,
      "outputs": []
    },
    {
      "cell_type": "code",
      "metadata": {
        "id": "0-kIYYt9cYX-",
        "outputId": "74a8d8aa-4822-4b34-e7ac-3f7e23dfdc6c",
        "colab": {
          "base_uri": "https://localhost:8080/"
        }
      },
      "source": [
        "collected_titles"
      ],
      "execution_count": 94,
      "outputs": [
        {
          "output_type": "execute_result",
          "data": {
            "text/plain": [
              "[]"
            ]
          },
          "metadata": {
            "tags": []
          },
          "execution_count": 94
        }
      ]
    },
    {
      "cell_type": "code",
      "metadata": {
        "id": "Ocbcqo0NZXtX"
      },
      "source": [
        "def collect_information(x):\n",
        "    collected_titles = []\n",
        "    # collected_subreddits = []\n",
        "    collected_links = []\n",
        "    # collected_comments_count = []\n",
        "    # collected_scores = []\n",
        "    page_number = 0\n",
        "    \n",
        "    while page_number <= x:\n",
        "        url = \"https://old.reddit.com/?count=\"\n",
        "        page = requests.get(\"https://old.reddit.com/?count=25\", headers={\"User-Agent\": \"Mozilla/5.0\"})\n",
        "        soup = BeautifulSoup(page.content, \"html.parser\")\n",
        "        for title in soup.find_all(\"a\", class_=\"may-blank\"):\n",
        "            collected_titles.append(title.text)\n",
        "            collected_links.append(title.get(\"href\"))\n",
        "        # for age in soup.find_all(\"span\", class_ = \"age\"):\n",
        "        #    collected_ages.append(age.text)\n",
        "        # time.sleep(2)   \n",
        "        page_number += 25  \n",
        "    df = pd.DataFrame({'title': collected_titles, 'link' : collected_links})\n",
        "        \n",
        "    return df"
      ],
      "execution_count": 95,
      "outputs": []
    },
    {
      "cell_type": "code",
      "metadata": {
        "id": "mF1im2FFbqE8"
      },
      "source": [
        "y =collect_information(2)"
      ],
      "execution_count": 96,
      "outputs": []
    },
    {
      "cell_type": "code",
      "metadata": {
        "id": "2ducpgHabsRH",
        "outputId": "336133f3-1a41-431d-df7c-cd6d302840a8",
        "colab": {
          "base_uri": "https://localhost:8080/",
          "height": 418
        }
      },
      "source": [
        "y"
      ],
      "execution_count": 97,
      "outputs": [
        {
          "output_type": "execute_result",
          "data": {
            "text/html": [
              "<div>\n",
              "<style scoped>\n",
              "    .dataframe tbody tr th:only-of-type {\n",
              "        vertical-align: middle;\n",
              "    }\n",
              "\n",
              "    .dataframe tbody tr th {\n",
              "        vertical-align: top;\n",
              "    }\n",
              "\n",
              "    .dataframe thead th {\n",
              "        text-align: right;\n",
              "    }\n",
              "</style>\n",
              "<table border=\"1\" class=\"dataframe\">\n",
              "  <thead>\n",
              "    <tr style=\"text-align: right;\">\n",
              "      <th></th>\n",
              "      <th>title</th>\n",
              "      <th>link</th>\n",
              "    </tr>\n",
              "  </thead>\n",
              "  <tbody>\n",
              "    <tr>\n",
              "      <th>0</th>\n",
              "      <td>0:24</td>\n",
              "      <td>/r/PublicFreakout/comments/oo4157/tampa_bay_ra...</td>\n",
              "    </tr>\n",
              "    <tr>\n",
              "      <th>1</th>\n",
              "      <td>Tampa Bay Rays game last night had some entert...</td>\n",
              "      <td>/r/PublicFreakout/comments/oo4157/tampa_bay_ra...</td>\n",
              "    </tr>\n",
              "    <tr>\n",
              "      <th>2</th>\n",
              "      <td>DZepperoni</td>\n",
              "      <td>https://old.reddit.com/user/DZepperoni</td>\n",
              "    </tr>\n",
              "    <tr>\n",
              "      <th>3</th>\n",
              "      <td>r/PublicFreakout</td>\n",
              "      <td>https://old.reddit.com/r/PublicFreakout/</td>\n",
              "    </tr>\n",
              "    <tr>\n",
              "      <th>4</th>\n",
              "      <td>3320 comments</td>\n",
              "      <td>https://old.reddit.com/r/PublicFreakout/commen...</td>\n",
              "    </tr>\n",
              "    <tr>\n",
              "      <th>...</th>\n",
              "      <td>...</td>\n",
              "      <td>...</td>\n",
              "    </tr>\n",
              "    <tr>\n",
              "      <th>126</th>\n",
              "      <td></td>\n",
              "      <td>/r/dankmemes/comments/oo241d/once_in_a_lifetim...</td>\n",
              "    </tr>\n",
              "    <tr>\n",
              "      <th>127</th>\n",
              "      <td>Once in a lifetime opportunity</td>\n",
              "      <td>/r/dankmemes/comments/oo241d/once_in_a_lifetim...</td>\n",
              "    </tr>\n",
              "    <tr>\n",
              "      <th>128</th>\n",
              "      <td>TheBrownMamba8</td>\n",
              "      <td>https://old.reddit.com/user/TheBrownMamba8</td>\n",
              "    </tr>\n",
              "    <tr>\n",
              "      <th>129</th>\n",
              "      <td>r/dankmemes</td>\n",
              "      <td>https://old.reddit.com/r/dankmemes/</td>\n",
              "    </tr>\n",
              "    <tr>\n",
              "      <th>130</th>\n",
              "      <td>415 comments</td>\n",
              "      <td>https://old.reddit.com/r/dankmemes/comments/oo...</td>\n",
              "    </tr>\n",
              "  </tbody>\n",
              "</table>\n",
              "<p>131 rows × 2 columns</p>\n",
              "</div>"
            ],
            "text/plain": [
              "                                                 title                                               link\n",
              "0                                                 0:24  /r/PublicFreakout/comments/oo4157/tampa_bay_ra...\n",
              "1    Tampa Bay Rays game last night had some entert...  /r/PublicFreakout/comments/oo4157/tampa_bay_ra...\n",
              "2                                           DZepperoni             https://old.reddit.com/user/DZepperoni\n",
              "3                                     r/PublicFreakout           https://old.reddit.com/r/PublicFreakout/\n",
              "4                                        3320 comments  https://old.reddit.com/r/PublicFreakout/commen...\n",
              "..                                                 ...                                                ...\n",
              "126                                                     /r/dankmemes/comments/oo241d/once_in_a_lifetim...\n",
              "127                     Once in a lifetime opportunity  /r/dankmemes/comments/oo241d/once_in_a_lifetim...\n",
              "128                                     TheBrownMamba8         https://old.reddit.com/user/TheBrownMamba8\n",
              "129                                        r/dankmemes                https://old.reddit.com/r/dankmemes/\n",
              "130                                       415 comments  https://old.reddit.com/r/dankmemes/comments/oo...\n",
              "\n",
              "[131 rows x 2 columns]"
            ]
          },
          "metadata": {
            "tags": []
          },
          "execution_count": 97
        }
      ]
    },
    {
      "cell_type": "markdown",
      "metadata": {
        "id": "WtuQ9yDLRlr3"
      },
      "source": [
        "## Summary\n",
        "If you want to create your own dataset, collecting it by using web scraping technique is one of the ways of doing it. Sometimes data will not be presented in pretty preprocessed csv columns and you will need to extract it from various resources by yourself. Automation of mentioned process can sometimes be a key part of a successful ML Project."
      ]
    },
    {
      "cell_type": "markdown",
      "metadata": {
        "id": "-AfBFhmRRlr3"
      },
      "source": [
        "---"
      ]
    },
    {
      "cell_type": "code",
      "metadata": {
        "id": "qHPYyvRPRlr3"
      },
      "source": [
        ""
      ],
      "execution_count": null,
      "outputs": []
    }
  ]
}