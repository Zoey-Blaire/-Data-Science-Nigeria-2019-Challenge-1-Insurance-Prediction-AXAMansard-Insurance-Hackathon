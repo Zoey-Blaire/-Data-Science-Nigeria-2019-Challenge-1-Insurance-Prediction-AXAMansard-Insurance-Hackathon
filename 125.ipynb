{
  "nbformat": 4,
  "nbformat_minor": 0,
  "metadata": {
    "kernelspec": {
      "display_name": "Python 3",
      "language": "python",
      "name": "python3"
    },
    "language_info": {
      "codemirror_mode": {
        "name": "ipython",
        "version": 3
      },
      "file_extension": ".py",
      "mimetype": "text/x-python",
      "name": "python",
      "nbconvert_exporter": "python",
      "pygments_lexer": "ipython3",
      "version": "3.7.6"
    },
    "colab": {
      "name": "125.ipynb",
      "provenance": [],
      "toc_visible": true
    }
  },
  "cells": [
    {
      "cell_type": "code",
      "metadata": {
        "id": "C-nY3UZO_6Zh"
      },
      "source": [
        ""
      ],
      "execution_count": null,
      "outputs": []
    },
    {
      "cell_type": "code",
      "metadata": {
        "id": "gHeM6Ntl_6VH"
      },
      "source": [
        ""
      ],
      "execution_count": null,
      "outputs": []
    },
    {
      "cell_type": "markdown",
      "metadata": {
        "id": "s9XJbKiBwEU9"
      },
      "source": [
        "# Module 1: Data Science Fundamentals"
      ]
    },
    {
      "cell_type": "markdown",
      "metadata": {
        "id": "0gHs5Dt4wEVR"
      },
      "source": [
        "## Sprint 2: Statistical Tests and Experiments"
      ]
    },
    {
      "cell_type": "markdown",
      "metadata": {
        "id": "HDo-HkeQwEVT"
      },
      "source": [
        "## Let's analyse Udacity A/B test!"
      ]
    },
    {
      "cell_type": "markdown",
      "metadata": {
        "id": "2KrJU194wEVT"
      },
      "source": [
        "<div><img style=\"height: 350px;\" src=\"https://upload.wikimedia.org/wikipedia/commons/3/3b/Udacity_logo.png\" /></div>"
      ]
    },
    {
      "cell_type": "markdown",
      "metadata": {
        "id": "SNqRyvaUwEVU"
      },
      "source": [
        "## Background"
      ]
    },
    {
      "cell_type": "markdown",
      "metadata": {
        "id": "J23U-l5twEVU"
      },
      "source": [
        "For the last day of this sprint, we are analyzing once run, online Udacity A/B test results! The dataset is part of the Udacity Google's A/B testing course, which we have watched a couple of lessons from in Subproject 2 of this sprint."
      ]
    },
    {
      "cell_type": "markdown",
      "metadata": {
        "id": "QRGfF8EcwEVV"
      },
      "source": [
        "Data is available at https://docs.google.com/spreadsheets/d/1Mu5u9GrybDdska-ljPXyBjTpdZIUev_6i7t4LRDfXM8/edit#gid=0"
      ]
    },
    {
      "cell_type": "markdown",
      "metadata": {
        "id": "jw1C13bzwEVV"
      },
      "source": [
        "---------"
      ]
    },
    {
      "cell_type": "markdown",
      "metadata": {
        "id": "XEoeBEnjwEVW"
      },
      "source": [
        "## How to start?"
      ]
    },
    {
      "cell_type": "markdown",
      "metadata": {
        "id": "TCvKpJOFwEVW"
      },
      "source": [
        "The data consists of two sheets, each for different group of the test. Download the sheets as CSVs and union them to form 1 dataset."
      ]
    },
    {
      "cell_type": "markdown",
      "metadata": {
        "id": "AvZ75vN-wEVX"
      },
      "source": [
        "## Concepts to explore"
      ]
    },
    {
      "cell_type": "markdown",
      "metadata": {
        "id": "ZSy26K-2wEVX"
      },
      "source": [
        "You will mostly focus on statistical hypothesis testing in this project on real-life data."
      ]
    },
    {
      "cell_type": "markdown",
      "metadata": {
        "id": "uruktn6BwEVX"
      },
      "source": [
        "## Requirements"
      ]
    },
    {
      "cell_type": "markdown",
      "metadata": {
        "id": "qTDY6rFswEVY"
      },
      "source": [
        "* Visualize 95% confidence interval between control and experiment groups on [click-through rate](https://en.wikipedia.org/wiki/Click-through_rate) metric. Explain what the confidence interval means, what's the relationship with the population of a group.\n",
        "* Verify that the difference in each of the metrics between control and experiment groups is statistically significant using z-test, 95% confidence level.\n",
        "* Verify that the difference in each of the metrics between control and experiment groups is statistically significant using t-test, 95% confidence level.\n",
        "* Compare both test method results. Explain why they differ / do not differ that much and why.\n",
        "* Choose 1 method (either z or t) and explore statistical significance of any metric under different confidence levels - 60%, 90%, 95%, 99%. If conclusions about significance differ under different confidence levels, explain why.\n",
        "* Calculate p-values."
      ]
    },
    {
      "cell_type": "markdown",
      "metadata": {
        "id": "OLef1R5awEVY"
      },
      "source": [
        "## Evaluation Criteria"
      ]
    },
    {
      "cell_type": "markdown",
      "metadata": {
        "id": "JOgdSd93wEVZ"
      },
      "source": [
        "- Correctness of used test methods.\n",
        "- Soundness of explanations given.\n",
        "- Adherence to the requirements."
      ]
    },
    {
      "cell_type": "markdown",
      "metadata": {
        "id": "p7n3pQGCwEVZ"
      },
      "source": [
        "\n",
        "## Sample correction questions\n",
        "\n",
        "During a correction, you may get asked questions that test your understanding of covered topics.\n",
        "\n",
        "- Why collect data from sample rather than data from a population?\n",
        "- What is the Central Limit Theorem and why is it important?\n",
        "- Explain confidence intervals and significance in statistics\n",
        "- Explain what p-value is"
      ]
    },
    {
      "cell_type": "markdown",
      "metadata": {
        "id": "87S1B-Jkw-Il"
      },
      "source": [
        "#### Import Libraries "
      ]
    },
    {
      "cell_type": "code",
      "metadata": {
        "id": "nkpVkLYKw-rf"
      },
      "source": [
        "import numpy as np #Linear Algebra\n",
        "import pandas as pd # data processing\n",
        "import matplotlib.pyplot as plt # data visualization\n",
        "import seaborn as sns #data visualization"
      ],
      "execution_count": 25,
      "outputs": []
    },
    {
      "cell_type": "markdown",
      "metadata": {
        "id": "WnqgE0howNJ6"
      },
      "source": [
        "#### Load dataset"
      ]
    },
    {
      "cell_type": "code",
      "metadata": {
        "id": "MuDuJV663dWU"
      },
      "source": [
        "#Load excel workbook\n",
        "d = pd.read_excel('Final Project Results.xlsx',sheet_name=['Control','Experiment'])"
      ],
      "execution_count": 2,
      "outputs": []
    },
    {
      "cell_type": "code",
      "metadata": {
        "id": "Drz2-Tyx3vUr"
      },
      "source": [
        "#Join two sheets of excel workbook together using list comprehension\n",
        "df=pd.concat(d[frame] for frame in d.keys())"
      ],
      "execution_count": 3,
      "outputs": []
    },
    {
      "cell_type": "markdown",
      "metadata": {
        "id": "bWxb-Hc9vly9"
      },
      "source": [
        "#### Drop negigible values"
      ]
    },
    {
      "cell_type": "markdown",
      "metadata": {
        "id": "QA21ouD2uueS"
      },
      "source": [
        "Given that the experiment is carried out to examine the change in enrolment and payment, The last fourteeen days of the experiment seem not important sine you invariable have to wait fouteen days to check if a user will stay given a click."
      ]
    },
    {
      "cell_type": "code",
      "metadata": {
        "id": "kLG7nSmhuS16"
      },
      "source": [
        "#Drop last fourteen days\n",
        "df.drop(df.tail(14).index.tolist(),0,inplace=True)\n",
        "df.reset_index(drop=True,inplace=True)"
      ],
      "execution_count": 4,
      "outputs": []
    },
    {
      "cell_type": "code",
      "metadata": {
        "id": "Am3DyeNr0J0w"
      },
      "source": [
        "d['Control'].dropna(axis=0,inplace=True)\n",
        "d['Experiment'].dropna(axis=0,inplace=True)"
      ],
      "execution_count": 5,
      "outputs": []
    },
    {
      "cell_type": "markdown",
      "metadata": {
        "id": "2Q_W37oXq_sm"
      },
      "source": [
        "#### Summation\n"
      ]
    },
    {
      "cell_type": "code",
      "metadata": {
        "id": "ZvbWIFzFF4Kg",
        "colab": {
          "base_uri": "https://localhost:8080/",
          "height": 0
        },
        "outputId": "36e4817b-f2df-4e05-ccfe-1b8272e8f52e"
      },
      "source": [
        "#Cacluted the sum of each column\n",
        "index = [\"page_views\",\"clicks\",\"enrollments\",\"payments\"]\n",
        "results = {\"Control\":pd.Series([d['Control'].Pageviews.sum(),d['Control'].Clicks.sum(),\n",
        "                                 d['Control'].Enrollments.sum(),d['Control'].Payments.sum()],\n",
        "                                  index = index),\n",
        "           \"Experiment\":pd.Series([d['Experiment'].Pageviews.sum(),d['Experiment'].Clicks.sum(),\n",
        "                               d['Experiment'].Enrollments.sum(),d['Experiment'].Payments.sum()],\n",
        "                               index = index),\n",
        "           \"Full_data\":pd.Series([df.Pageviews.sum(),df.Clicks.sum(),df.Enrollments.sum(),\n",
        "                                  df.Payments.sum()],index = index )\n",
        "           }\n",
        "df_results = pd.DataFrame(results)\n",
        "df_results"
      ],
      "execution_count": 7,
      "outputs": [
        {
          "output_type": "execute_result",
          "data": {
            "text/html": [
              "<div>\n",
              "<style scoped>\n",
              "    .dataframe tbody tr th:only-of-type {\n",
              "        vertical-align: middle;\n",
              "    }\n",
              "\n",
              "    .dataframe tbody tr th {\n",
              "        vertical-align: top;\n",
              "    }\n",
              "\n",
              "    .dataframe thead th {\n",
              "        text-align: right;\n",
              "    }\n",
              "</style>\n",
              "<table border=\"1\" class=\"dataframe\">\n",
              "  <thead>\n",
              "    <tr style=\"text-align: right;\">\n",
              "      <th></th>\n",
              "      <th>Control</th>\n",
              "      <th>Experiment</th>\n",
              "      <th>Full_data</th>\n",
              "    </tr>\n",
              "  </thead>\n",
              "  <tbody>\n",
              "    <tr>\n",
              "      <th>page_views</th>\n",
              "      <td>212163.0</td>\n",
              "      <td>211362.0</td>\n",
              "      <td>423525.0</td>\n",
              "    </tr>\n",
              "    <tr>\n",
              "      <th>clicks</th>\n",
              "      <td>17293.0</td>\n",
              "      <td>17260.0</td>\n",
              "      <td>34553.0</td>\n",
              "    </tr>\n",
              "    <tr>\n",
              "      <th>enrollments</th>\n",
              "      <td>3785.0</td>\n",
              "      <td>3423.0</td>\n",
              "      <td>7208.0</td>\n",
              "    </tr>\n",
              "    <tr>\n",
              "      <th>payments</th>\n",
              "      <td>2033.0</td>\n",
              "      <td>1945.0</td>\n",
              "      <td>3978.0</td>\n",
              "    </tr>\n",
              "  </tbody>\n",
              "</table>\n",
              "</div>"
            ],
            "text/plain": [
              "              Control  Experiment  Full_data\n",
              "page_views   212163.0    211362.0   423525.0\n",
              "clicks        17293.0     17260.0    34553.0\n",
              "enrollments    3785.0      3423.0     7208.0\n",
              "payments       2033.0      1945.0     3978.0"
            ]
          },
          "metadata": {
            "tags": []
          },
          "execution_count": 7
        }
      ]
    },
    {
      "cell_type": "markdown",
      "metadata": {
        "id": "Z7Ce2JpJZanH"
      },
      "source": [
        "#### Functions"
      ]
    },
    {
      "cell_type": "code",
      "metadata": {
        "id": "omXR7t4dCb5s"
      },
      "source": [
        "def standard_error(p_hat,n):\n",
        "  standard_error = np.sqrt( ( p_hat * ( 1 - p_hat )  / n))\n",
        "  return standard_error"
      ],
      "execution_count": 8,
      "outputs": []
    },
    {
      "cell_type": "code",
      "metadata": {
        "id": "ww2pi0u2YPWs"
      },
      "source": [
        "def confindence_interval(standard_error,z_score,d_min):  \n",
        "  margin_of_error = z_score * standard_error\n",
        "  lcb = d_min - margin_of_error  # lower limit of the Confidence interval\n",
        "  ucb = d_min + margin_of_error # Lower limit of the confidence interval\n",
        "  return margin_of_error, lcb,ucb"
      ],
      "execution_count": 9,
      "outputs": []
    },
    {
      "cell_type": "code",
      "metadata": {
        "id": "irhN4U51Z2F7"
      },
      "source": [
        "def standard_error_diff (se_control,se_experiment):\n",
        "  se_diff = np.sqrt(se_control**2 + se_experiment**2)\n",
        "  return se_diff"
      ],
      "execution_count": 10,
      "outputs": []
    },
    {
      "cell_type": "code",
      "metadata": {
        "id": "Wb2mXo-z7tH7"
      },
      "source": [
        "def pooled_standard_error(p_hat_pool, N_control,_N_experiment):\n",
        "  pooled_standard_error = np.sqrt(p_hat_pool*(1-p_hat_pool)*\n",
        "             (1/N_control+1/_N_experiment))\n",
        "  return pooled_standard_error"
      ],
      "execution_count": 11,
      "outputs": []
    },
    {
      "cell_type": "markdown",
      "metadata": {
        "id": "38QRC42I6VDN"
      },
      "source": [
        "#### Using Clickthrough rate as a sanity check. \n",
        "There was no change made to the button  so the click through rate is expected to be the same if there is no problem with the experimemt setup .\n",
        "- The null hypothesis states that the is no significant difference between both groups\n",
        "- The alternative hypothesis states that there is a significant difference\n",
        "- At 95 percent confidence the z_score is 1.96"
      ]
    },
    {
      "cell_type": "code",
      "metadata": {
        "id": "UTY6suAV862m"
      },
      "source": [
        "p_hat_pool=(df_results['Full_data']['clicks'])/(df_results['Full_data']['page_views'])"
      ],
      "execution_count": 12,
      "outputs": []
    },
    {
      "cell_type": "code",
      "metadata": {
        "id": "HTmu7-3GCDpc"
      },
      "source": [
        "p_hat_control=(df_results['Control']['clicks'])/(df_results['Control']['page_views'])\n",
        "\n",
        "p_hat_experiment=(df_results['Experiment']['clicks'])/(df_results['Experiment']['page_views'])\n",
        "\n"
      ],
      "execution_count": 13,
      "outputs": []
    },
    {
      "cell_type": "code",
      "metadata": {
        "colab": {
          "base_uri": "https://localhost:8080/"
        },
        "id": "w5XnFim2FJwH",
        "outputId": "23349e0e-7b75-4855-b7e1-127bf632e285"
      },
      "source": [
        "d_min=p_hat_experiment-p_hat_control\n",
        "d_min"
      ],
      "execution_count": 14,
      "outputs": [
        {
          "output_type": "execute_result",
          "data": {
            "text/plain": [
              "0.0001527615025272433"
            ]
          },
          "metadata": {
            "tags": []
          },
          "execution_count": 14
        }
      ]
    },
    {
      "cell_type": "markdown",
      "metadata": {
        "id": "WyHgnIGhcB4J"
      },
      "source": [
        "##### First approach using the  pooled standard error"
      ]
    },
    {
      "cell_type": "code",
      "metadata": {
        "id": "6kSe6kKkEBlB",
        "colab": {
          "base_uri": "https://localhost:8080/"
        },
        "outputId": "82eabf59-d84b-41e1-cae1-289e04d6e5ac"
      },
      "source": [
        "pooled_standard_error=pooled_standard_error(p_hat_pool,\n",
        "                      df_results['Control']['page_views'],\n",
        "                      df_results['Experiment']['page_views'])\n",
        "pooled_standard_error"
      ],
      "execution_count": 15,
      "outputs": [
        {
          "output_type": "execute_result",
          "data": {
            "text/plain": [
              "0.0008412290191049275"
            ]
          },
          "metadata": {
            "tags": []
          },
          "execution_count": 15
        }
      ]
    },
    {
      "cell_type": "code",
      "metadata": {
        "id": "YdQQVtqEcbCl"
      },
      "source": [
        "margin_of_error,lcb,ucb=confindence_interval(pooled_standard_error,1.96,d_min)"
      ],
      "execution_count": 16,
      "outputs": []
    },
    {
      "cell_type": "markdown",
      "metadata": {
        "id": "7B33X1dNc0G_"
      },
      "source": [
        "##### Second Approach: Calculating the standard errror of the two groups , and finding the difference in standard error"
      ]
    },
    {
      "cell_type": "code",
      "metadata": {
        "id": "Ymp_E_XlC-ui"
      },
      "source": [
        "se_control=standard_error(p_hat_control,df_results['Control']['page_views'])\n",
        "se_experiment=standard_error(p_hat_experiment,df_results['Experiment']['page_views'])"
      ],
      "execution_count": 17,
      "outputs": []
    },
    {
      "cell_type": "code",
      "metadata": {
        "id": "1Qv4N6DbDklN"
      },
      "source": [
        "se_diff =standard_error_diff(se_control,se_experiment)"
      ],
      "execution_count": 18,
      "outputs": []
    },
    {
      "cell_type": "code",
      "metadata": {
        "id": "dHHi4ycVdPoI"
      },
      "source": [
        "margin_of_error1,lcb1,ucb1=confindence_interval(pooled_standard_error,1.96,d_min)"
      ],
      "execution_count": 19,
      "outputs": []
    },
    {
      "cell_type": "code",
      "metadata": {
        "colab": {
          "base_uri": "https://localhost:8080/"
        },
        "id": "-LN56VbI10Bz",
        "outputId": "f145f063-9364-4ae1-c1df-32c2dd46ea30"
      },
      "source": [
        "ucb1,lcb"
      ],
      "execution_count": 24,
      "outputs": [
        {
          "output_type": "execute_result",
          "data": {
            "text/plain": [
              "(0.0018015703799729012, -0.0014960473749184146)"
            ]
          },
          "metadata": {
            "tags": []
          },
          "execution_count": 24
        }
      ]
    },
    {
      "cell_type": "markdown",
      "metadata": {
        "id": "0yeVyQqyeOGV"
      },
      "source": [
        "##### Plot of confidence interval"
      ]
    },
    {
      "cell_type": "code",
      "metadata": {
        "colab": {
          "base_uri": "https://localhost:8080/",
          "height": 283
        },
        "id": "mCLy52hK0uhn",
        "outputId": "5cb2f7b8-2db7-4bfe-ad42-96bc5db385bd"
      },
      "source": [
        "plt.plot([-0.0012390521070649596, 0.0013523062902388316],color='blue', alpha=0.1)\n",
        "x = [lcb, 0, ucb]\n",
        "y = [0,0,0]\n",
        "sns.set()\n",
        "g=sns.lineplot(x,y)\n",
        "plt.title('Confidence interval of Click through rate of the two groups')\n",
        "plt.xlabel('xAxis name')\n",
        "plt.ylabel('yAxis name')\n",
        "plt.show()"
      ],
      "execution_count": 20,
      "outputs": [
        {
          "output_type": "execute_result",
          "data": {
            "text/plain": [
              "[<matplotlib.lines.Line2D at 0x7f3bbc253350>]"
            ]
          },
          "metadata": {
            "tags": []
          },
          "execution_count": 20
        },
        {
          "output_type": "display_data",
          "data": {
            "image/png": "[encoded data removed]",
            "text/plain": [
              "<Figure size 432x288 with 1 Axes>"
            ]
          },
          "metadata": {
            "tags": [],
            "needs_background": "light"
          }
        }
      ]
    },
    {
      "cell_type": "markdown",
      "metadata": {
        "id": "kPxQEy1P_W-2"
      },
      "source": [
        "  - The confidence interval is between (0.0018015703799729012, -0.0014960473749184146) , and 0 lies with the range,it is safe to accept the null hypothesis\n",
        "  \n",
        " - if dmin is greater thank the margin of error , we reject the null hypothesis. \n",
        " - In this case d_min is less than the margin of error, hence there is no significant differnence between the two groups"
      ]
    },
    {
      "cell_type": "markdown",
      "metadata": {
        "id": "DySCEWtcGYWU"
      },
      "source": [
        "#### Evaluation Metrics"
      ]
    },
    {
      "cell_type": "markdown",
      "metadata": {
        "id": "jiPMuux9g1do"
      },
      "source": [
        "Based on the hypothesis of the test we expect to see:\n",
        "an increase in retention, which means that more students stay after the free trial in the test group.\n",
        "a decrease in gross conversion, which means that there are less frustrated students in the test group.\n",
        "not a big impact on net conversion, which means we don’t lose a great amount of paying users in the test group."
      ]
    },
    {
      "cell_type": "markdown",
      "metadata": {
        "id": "tsFRj9_2wXEK"
      },
      "source": [
        "##### Metric 1: Rate of Enrollment given a click"
      ]
    },
    {
      "cell_type": "code",
      "metadata": {
        "id": "gYQvRj8zsrT5"
      },
      "source": [
        "#Calculate click through rate.\n"
      ],
      "execution_count": null,
      "outputs": []
    },
    {
      "cell_type": "markdown",
      "metadata": {
        "id": "lIG_LFMLHLbT"
      },
      "source": [
        "##### Metric 2 : Retention( Rate of payment given enrollmenmt )\n",
        "- That is, number of user-ids to remain enrolled past the 14-day boundary (and thus make at least one payment) divided by number of user-ids to complete checkout. "
      ]
    },
    {
      "cell_type": "code",
      "metadata": {
        "id": "PTJaqKeOtKXd"
      },
      "source": [
        "#Retention rate for control\n",
        "retention_control=df_results['Control']\n",
        "results = {\"Control\":pd.Series([d['Control'].Pageviews.sum(),d['Control'].Clicks.sum(),\n",
        "                                 d['Control'].Enrollments.sum(),d['Control'].Payments.sum()],\n",
        "                                  index = index),\n"
      ],
      "execution_count": null,
      "outputs": []
    },
    {
      "cell_type": "code",
      "metadata": {
        "id": "_UTkm-0GMKbz",
        "colab": {
          "base_uri": "https://localhost:8080/",
          "height": 634
        },
        "outputId": "3a749e17-e9f1-4385-ddc4-bf42d6defd55"
      },
      "source": [
        "df.head(20)"
      ],
      "execution_count": null,
      "outputs": [
        {
          "output_type": "execute_result",
          "data": {
            "text/html": [
              "<div>\n",
              "<style scoped>\n",
              "    .dataframe tbody tr th:only-of-type {\n",
              "        vertical-align: middle;\n",
              "    }\n",
              "\n",
              "    .dataframe tbody tr th {\n",
              "        vertical-align: top;\n",
              "    }\n",
              "\n",
              "    .dataframe thead th {\n",
              "        text-align: right;\n",
              "    }\n",
              "</style>\n",
              "<table border=\"1\" class=\"dataframe\">\n",
              "  <thead>\n",
              "    <tr style=\"text-align: right;\">\n",
              "      <th></th>\n",
              "      <th>Date</th>\n",
              "      <th>Pageviews</th>\n",
              "      <th>Clicks</th>\n",
              "      <th>Enrollments</th>\n",
              "      <th>Payments</th>\n",
              "      <th>group</th>\n",
              "    </tr>\n",
              "  </thead>\n",
              "  <tbody>\n",
              "    <tr>\n",
              "      <th>0</th>\n",
              "      <td>Sat, Oct 11</td>\n",
              "      <td>7723</td>\n",
              "      <td>687</td>\n",
              "      <td>134.0</td>\n",
              "      <td>70.0</td>\n",
              "      <td>control</td>\n",
              "    </tr>\n",
              "    <tr>\n",
              "      <th>1</th>\n",
              "      <td>Sun, Oct 12</td>\n",
              "      <td>9102</td>\n",
              "      <td>779</td>\n",
              "      <td>147.0</td>\n",
              "      <td>70.0</td>\n",
              "      <td>control</td>\n",
              "    </tr>\n",
              "    <tr>\n",
              "      <th>2</th>\n",
              "      <td>Mon, Oct 13</td>\n",
              "      <td>10511</td>\n",
              "      <td>909</td>\n",
              "      <td>167.0</td>\n",
              "      <td>95.0</td>\n",
              "      <td>control</td>\n",
              "    </tr>\n",
              "    <tr>\n",
              "      <th>3</th>\n",
              "      <td>Tue, Oct 14</td>\n",
              "      <td>9871</td>\n",
              "      <td>836</td>\n",
              "      <td>156.0</td>\n",
              "      <td>105.0</td>\n",
              "      <td>control</td>\n",
              "    </tr>\n",
              "    <tr>\n",
              "      <th>4</th>\n",
              "      <td>Wed, Oct 15</td>\n",
              "      <td>10014</td>\n",
              "      <td>837</td>\n",
              "      <td>163.0</td>\n",
              "      <td>64.0</td>\n",
              "      <td>control</td>\n",
              "    </tr>\n",
              "    <tr>\n",
              "      <th>5</th>\n",
              "      <td>Thu, Oct 16</td>\n",
              "      <td>9670</td>\n",
              "      <td>823</td>\n",
              "      <td>138.0</td>\n",
              "      <td>82.0</td>\n",
              "      <td>control</td>\n",
              "    </tr>\n",
              "    <tr>\n",
              "      <th>6</th>\n",
              "      <td>Fri, Oct 17</td>\n",
              "      <td>9008</td>\n",
              "      <td>748</td>\n",
              "      <td>146.0</td>\n",
              "      <td>76.0</td>\n",
              "      <td>control</td>\n",
              "    </tr>\n",
              "    <tr>\n",
              "      <th>7</th>\n",
              "      <td>Sat, Oct 18</td>\n",
              "      <td>7434</td>\n",
              "      <td>632</td>\n",
              "      <td>110.0</td>\n",
              "      <td>70.0</td>\n",
              "      <td>control</td>\n",
              "    </tr>\n",
              "    <tr>\n",
              "      <th>8</th>\n",
              "      <td>Sun, Oct 19</td>\n",
              "      <td>8459</td>\n",
              "      <td>691</td>\n",
              "      <td>131.0</td>\n",
              "      <td>60.0</td>\n",
              "      <td>control</td>\n",
              "    </tr>\n",
              "    <tr>\n",
              "      <th>9</th>\n",
              "      <td>Mon, Oct 20</td>\n",
              "      <td>10667</td>\n",
              "      <td>861</td>\n",
              "      <td>165.0</td>\n",
              "      <td>97.0</td>\n",
              "      <td>control</td>\n",
              "    </tr>\n",
              "    <tr>\n",
              "      <th>10</th>\n",
              "      <td>Tue, Oct 21</td>\n",
              "      <td>10660</td>\n",
              "      <td>867</td>\n",
              "      <td>196.0</td>\n",
              "      <td>105.0</td>\n",
              "      <td>control</td>\n",
              "    </tr>\n",
              "    <tr>\n",
              "      <th>11</th>\n",
              "      <td>Wed, Oct 22</td>\n",
              "      <td>9947</td>\n",
              "      <td>838</td>\n",
              "      <td>162.0</td>\n",
              "      <td>92.0</td>\n",
              "      <td>control</td>\n",
              "    </tr>\n",
              "    <tr>\n",
              "      <th>12</th>\n",
              "      <td>Thu, Oct 23</td>\n",
              "      <td>8324</td>\n",
              "      <td>665</td>\n",
              "      <td>127.0</td>\n",
              "      <td>56.0</td>\n",
              "      <td>control</td>\n",
              "    </tr>\n",
              "    <tr>\n",
              "      <th>13</th>\n",
              "      <td>Fri, Oct 24</td>\n",
              "      <td>9434</td>\n",
              "      <td>673</td>\n",
              "      <td>220.0</td>\n",
              "      <td>122.0</td>\n",
              "      <td>control</td>\n",
              "    </tr>\n",
              "    <tr>\n",
              "      <th>14</th>\n",
              "      <td>Sat, Oct 25</td>\n",
              "      <td>8687</td>\n",
              "      <td>691</td>\n",
              "      <td>176.0</td>\n",
              "      <td>128.0</td>\n",
              "      <td>control</td>\n",
              "    </tr>\n",
              "    <tr>\n",
              "      <th>15</th>\n",
              "      <td>Sun, Oct 26</td>\n",
              "      <td>8896</td>\n",
              "      <td>708</td>\n",
              "      <td>161.0</td>\n",
              "      <td>104.0</td>\n",
              "      <td>control</td>\n",
              "    </tr>\n",
              "    <tr>\n",
              "      <th>16</th>\n",
              "      <td>Mon, Oct 27</td>\n",
              "      <td>9535</td>\n",
              "      <td>759</td>\n",
              "      <td>233.0</td>\n",
              "      <td>124.0</td>\n",
              "      <td>control</td>\n",
              "    </tr>\n",
              "    <tr>\n",
              "      <th>17</th>\n",
              "      <td>Tue, Oct 28</td>\n",
              "      <td>9363</td>\n",
              "      <td>736</td>\n",
              "      <td>154.0</td>\n",
              "      <td>91.0</td>\n",
              "      <td>control</td>\n",
              "    </tr>\n",
              "    <tr>\n",
              "      <th>18</th>\n",
              "      <td>Wed, Oct 29</td>\n",
              "      <td>9327</td>\n",
              "      <td>739</td>\n",
              "      <td>196.0</td>\n",
              "      <td>86.0</td>\n",
              "      <td>control</td>\n",
              "    </tr>\n",
              "    <tr>\n",
              "      <th>19</th>\n",
              "      <td>Thu, Oct 30</td>\n",
              "      <td>9345</td>\n",
              "      <td>734</td>\n",
              "      <td>167.0</td>\n",
              "      <td>75.0</td>\n",
              "      <td>control</td>\n",
              "    </tr>\n",
              "  </tbody>\n",
              "</table>\n",
              "</div>"
            ],
            "text/plain": [
              "           Date  Pageviews  Clicks  Enrollments  Payments    group\n",
              "0   Sat, Oct 11       7723     687        134.0      70.0  control\n",
              "1   Sun, Oct 12       9102     779        147.0      70.0  control\n",
              "2   Mon, Oct 13      10511     909        167.0      95.0  control\n",
              "3   Tue, Oct 14       9871     836        156.0     105.0  control\n",
              "4   Wed, Oct 15      10014     837        163.0      64.0  control\n",
              "5   Thu, Oct 16       9670     823        138.0      82.0  control\n",
              "6   Fri, Oct 17       9008     748        146.0      76.0  control\n",
              "7   Sat, Oct 18       7434     632        110.0      70.0  control\n",
              "8   Sun, Oct 19       8459     691        131.0      60.0  control\n",
              "9   Mon, Oct 20      10667     861        165.0      97.0  control\n",
              "10  Tue, Oct 21      10660     867        196.0     105.0  control\n",
              "11  Wed, Oct 22       9947     838        162.0      92.0  control\n",
              "12  Thu, Oct 23       8324     665        127.0      56.0  control\n",
              "13  Fri, Oct 24       9434     673        220.0     122.0  control\n",
              "14  Sat, Oct 25       8687     691        176.0     128.0  control\n",
              "15  Sun, Oct 26       8896     708        161.0     104.0  control\n",
              "16  Mon, Oct 27       9535     759        233.0     124.0  control\n",
              "17  Tue, Oct 28       9363     736        154.0      91.0  control\n",
              "18  Wed, Oct 29       9327     739        196.0      86.0  control\n",
              "19  Thu, Oct 30       9345     734        167.0      75.0  control"
            ]
          },
          "metadata": {
            "tags": []
          },
          "execution_count": 22
        }
      ]
    },
    {
      "cell_type": "code",
      "metadata": {
        "id": "hQnuHeTkO4rr"
      },
      "source": [
        "total_clicks=sum(df['Clicks'])"
      ],
      "execution_count": null,
      "outputs": []
    },
    {
      "cell_type": "code",
      "metadata": {
        "id": "Lfjw3rGqPCen"
      },
      "source": [
        "total_Page_views=sum(df['Pageviews'])"
      ],
      "execution_count": null,
      "outputs": []
    },
    {
      "cell_type": "code",
      "metadata": {
        "id": "hWUtlID3O4i0",
        "colab": {
          "base_uri": "https://localhost:8080/"
        },
        "outputId": "5f272184-1442-4875-b3c3-0e251050dbc3"
      },
      "source": [
        "total_clicks,total_Page_views"
      ],
      "execution_count": null,
      "outputs": [
        {
          "output_type": "execute_result",
          "data": {
            "text/plain": [
              "(56703, 690203)"
            ]
          },
          "metadata": {
            "tags": []
          },
          "execution_count": 49
        }
      ]
    },
    {
      "cell_type": "code",
      "metadata": {
        "id": "bT0HP0slydU0"
      },
      "source": [
        "df=pd.concat([control,treatment])"
      ],
      "execution_count": null,
      "outputs": []
    },
    {
      "cell_type": "markdown",
      "metadata": {
        "id": "HIMKKwTs57hX"
      },
      "source": [
        "sum page views sum clicks and divide"
      ]
    },
    {
      "cell_type": "code",
      "metadata": {
        "id": "Y5kdrAwr2O07"
      },
      "source": [
        "control=pd.read_csv(\"Control.csv\")\n",
        "treatment=pd.read_csv(\"Treatment.csv\")"
      ],
      "execution_count": null,
      "outputs": []
    },
    {
      "cell_type": "code",
      "metadata": {
        "id": "MzgkcCzxLlNh",
        "colab": {
          "base_uri": "https://localhost:8080/",
          "height": 1000
        },
        "outputId": "c35b0240-2c0b-4eb2-f92c-2d1d8d521813"
      },
      "source": [
        "control"
      ],
      "execution_count": null,
      "outputs": [
        {
          "output_type": "execute_result",
          "data": {
            "text/html": [
              "<div>\n",
              "<style scoped>\n",
              "    .dataframe tbody tr th:only-of-type {\n",
              "        vertical-align: middle;\n",
              "    }\n",
              "\n",
              "    .dataframe tbody tr th {\n",
              "        vertical-align: top;\n",
              "    }\n",
              "\n",
              "    .dataframe thead th {\n",
              "        text-align: right;\n",
              "    }\n",
              "</style>\n",
              "<table border=\"1\" class=\"dataframe\">\n",
              "  <thead>\n",
              "    <tr style=\"text-align: right;\">\n",
              "      <th></th>\n",
              "      <th>Date</th>\n",
              "      <th>Pageviews</th>\n",
              "      <th>Clicks</th>\n",
              "      <th>Enrollments</th>\n",
              "      <th>Payments</th>\n",
              "    </tr>\n",
              "  </thead>\n",
              "  <tbody>\n",
              "    <tr>\n",
              "      <th>0</th>\n",
              "      <td>Sat, Oct 11</td>\n",
              "      <td>7723</td>\n",
              "      <td>687</td>\n",
              "      <td>134.0</td>\n",
              "      <td>70.0</td>\n",
              "    </tr>\n",
              "    <tr>\n",
              "      <th>1</th>\n",
              "      <td>Sun, Oct 12</td>\n",
              "      <td>9102</td>\n",
              "      <td>779</td>\n",
              "      <td>147.0</td>\n",
              "      <td>70.0</td>\n",
              "    </tr>\n",
              "    <tr>\n",
              "      <th>2</th>\n",
              "      <td>Mon, Oct 13</td>\n",
              "      <td>10511</td>\n",
              "      <td>909</td>\n",
              "      <td>167.0</td>\n",
              "      <td>95.0</td>\n",
              "    </tr>\n",
              "    <tr>\n",
              "      <th>3</th>\n",
              "      <td>Tue, Oct 14</td>\n",
              "      <td>9871</td>\n",
              "      <td>836</td>\n",
              "      <td>156.0</td>\n",
              "      <td>105.0</td>\n",
              "    </tr>\n",
              "    <tr>\n",
              "      <th>4</th>\n",
              "      <td>Wed, Oct 15</td>\n",
              "      <td>10014</td>\n",
              "      <td>837</td>\n",
              "      <td>163.0</td>\n",
              "      <td>64.0</td>\n",
              "    </tr>\n",
              "    <tr>\n",
              "      <th>5</th>\n",
              "      <td>Thu, Oct 16</td>\n",
              "      <td>9670</td>\n",
              "      <td>823</td>\n",
              "      <td>138.0</td>\n",
              "      <td>82.0</td>\n",
              "    </tr>\n",
              "    <tr>\n",
              "      <th>6</th>\n",
              "      <td>Fri, Oct 17</td>\n",
              "      <td>9008</td>\n",
              "      <td>748</td>\n",
              "      <td>146.0</td>\n",
              "      <td>76.0</td>\n",
              "    </tr>\n",
              "    <tr>\n",
              "      <th>7</th>\n",
              "      <td>Sat, Oct 18</td>\n",
              "      <td>7434</td>\n",
              "      <td>632</td>\n",
              "      <td>110.0</td>\n",
              "      <td>70.0</td>\n",
              "    </tr>\n",
              "    <tr>\n",
              "      <th>8</th>\n",
              "      <td>Sun, Oct 19</td>\n",
              "      <td>8459</td>\n",
              "      <td>691</td>\n",
              "      <td>131.0</td>\n",
              "      <td>60.0</td>\n",
              "    </tr>\n",
              "    <tr>\n",
              "      <th>9</th>\n",
              "      <td>Mon, Oct 20</td>\n",
              "      <td>10667</td>\n",
              "      <td>861</td>\n",
              "      <td>165.0</td>\n",
              "      <td>97.0</td>\n",
              "    </tr>\n",
              "    <tr>\n",
              "      <th>10</th>\n",
              "      <td>Tue, Oct 21</td>\n",
              "      <td>10660</td>\n",
              "      <td>867</td>\n",
              "      <td>196.0</td>\n",
              "      <td>105.0</td>\n",
              "    </tr>\n",
              "    <tr>\n",
              "      <th>11</th>\n",
              "      <td>Wed, Oct 22</td>\n",
              "      <td>9947</td>\n",
              "      <td>838</td>\n",
              "      <td>162.0</td>\n",
              "      <td>92.0</td>\n",
              "    </tr>\n",
              "    <tr>\n",
              "      <th>12</th>\n",
              "      <td>Thu, Oct 23</td>\n",
              "      <td>8324</td>\n",
              "      <td>665</td>\n",
              "      <td>127.0</td>\n",
              "      <td>56.0</td>\n",
              "    </tr>\n",
              "    <tr>\n",
              "      <th>13</th>\n",
              "      <td>Fri, Oct 24</td>\n",
              "      <td>9434</td>\n",
              "      <td>673</td>\n",
              "      <td>220.0</td>\n",
              "      <td>122.0</td>\n",
              "    </tr>\n",
              "    <tr>\n",
              "      <th>14</th>\n",
              "      <td>Sat, Oct 25</td>\n",
              "      <td>8687</td>\n",
              "      <td>691</td>\n",
              "      <td>176.0</td>\n",
              "      <td>128.0</td>\n",
              "    </tr>\n",
              "    <tr>\n",
              "      <th>15</th>\n",
              "      <td>Sun, Oct 26</td>\n",
              "      <td>8896</td>\n",
              "      <td>708</td>\n",
              "      <td>161.0</td>\n",
              "      <td>104.0</td>\n",
              "    </tr>\n",
              "    <tr>\n",
              "      <th>16</th>\n",
              "      <td>Mon, Oct 27</td>\n",
              "      <td>9535</td>\n",
              "      <td>759</td>\n",
              "      <td>233.0</td>\n",
              "      <td>124.0</td>\n",
              "    </tr>\n",
              "    <tr>\n",
              "      <th>17</th>\n",
              "      <td>Tue, Oct 28</td>\n",
              "      <td>9363</td>\n",
              "      <td>736</td>\n",
              "      <td>154.0</td>\n",
              "      <td>91.0</td>\n",
              "    </tr>\n",
              "    <tr>\n",
              "      <th>18</th>\n",
              "      <td>Wed, Oct 29</td>\n",
              "      <td>9327</td>\n",
              "      <td>739</td>\n",
              "      <td>196.0</td>\n",
              "      <td>86.0</td>\n",
              "    </tr>\n",
              "    <tr>\n",
              "      <th>19</th>\n",
              "      <td>Thu, Oct 30</td>\n",
              "      <td>9345</td>\n",
              "      <td>734</td>\n",
              "      <td>167.0</td>\n",
              "      <td>75.0</td>\n",
              "    </tr>\n",
              "    <tr>\n",
              "      <th>20</th>\n",
              "      <td>Fri, Oct 31</td>\n",
              "      <td>8890</td>\n",
              "      <td>706</td>\n",
              "      <td>174.0</td>\n",
              "      <td>101.0</td>\n",
              "    </tr>\n",
              "    <tr>\n",
              "      <th>21</th>\n",
              "      <td>Sat, Nov 1</td>\n",
              "      <td>8460</td>\n",
              "      <td>681</td>\n",
              "      <td>156.0</td>\n",
              "      <td>93.0</td>\n",
              "    </tr>\n",
              "    <tr>\n",
              "      <th>22</th>\n",
              "      <td>Sun, Nov 2</td>\n",
              "      <td>8836</td>\n",
              "      <td>693</td>\n",
              "      <td>206.0</td>\n",
              "      <td>67.0</td>\n",
              "    </tr>\n",
              "    <tr>\n",
              "      <th>23</th>\n",
              "      <td>Mon, Nov 3</td>\n",
              "      <td>9437</td>\n",
              "      <td>788</td>\n",
              "      <td>NaN</td>\n",
              "      <td>NaN</td>\n",
              "    </tr>\n",
              "    <tr>\n",
              "      <th>24</th>\n",
              "      <td>Tue, Nov 4</td>\n",
              "      <td>9420</td>\n",
              "      <td>781</td>\n",
              "      <td>NaN</td>\n",
              "      <td>NaN</td>\n",
              "    </tr>\n",
              "    <tr>\n",
              "      <th>25</th>\n",
              "      <td>Wed, Nov 5</td>\n",
              "      <td>9570</td>\n",
              "      <td>805</td>\n",
              "      <td>NaN</td>\n",
              "      <td>NaN</td>\n",
              "    </tr>\n",
              "    <tr>\n",
              "      <th>26</th>\n",
              "      <td>Thu, Nov 6</td>\n",
              "      <td>9921</td>\n",
              "      <td>830</td>\n",
              "      <td>NaN</td>\n",
              "      <td>NaN</td>\n",
              "    </tr>\n",
              "    <tr>\n",
              "      <th>27</th>\n",
              "      <td>Fri, Nov 7</td>\n",
              "      <td>9424</td>\n",
              "      <td>781</td>\n",
              "      <td>NaN</td>\n",
              "      <td>NaN</td>\n",
              "    </tr>\n",
              "    <tr>\n",
              "      <th>28</th>\n",
              "      <td>Sat, Nov 8</td>\n",
              "      <td>9010</td>\n",
              "      <td>756</td>\n",
              "      <td>NaN</td>\n",
              "      <td>NaN</td>\n",
              "    </tr>\n",
              "    <tr>\n",
              "      <th>29</th>\n",
              "      <td>Sun, Nov 9</td>\n",
              "      <td>9656</td>\n",
              "      <td>825</td>\n",
              "      <td>NaN</td>\n",
              "      <td>NaN</td>\n",
              "    </tr>\n",
              "    <tr>\n",
              "      <th>30</th>\n",
              "      <td>Mon, Nov 10</td>\n",
              "      <td>10419</td>\n",
              "      <td>874</td>\n",
              "      <td>NaN</td>\n",
              "      <td>NaN</td>\n",
              "    </tr>\n",
              "    <tr>\n",
              "      <th>31</th>\n",
              "      <td>Tue, Nov 11</td>\n",
              "      <td>9880</td>\n",
              "      <td>830</td>\n",
              "      <td>NaN</td>\n",
              "      <td>NaN</td>\n",
              "    </tr>\n",
              "    <tr>\n",
              "      <th>32</th>\n",
              "      <td>Wed, Nov 12</td>\n",
              "      <td>10134</td>\n",
              "      <td>801</td>\n",
              "      <td>NaN</td>\n",
              "      <td>NaN</td>\n",
              "    </tr>\n",
              "    <tr>\n",
              "      <th>33</th>\n",
              "      <td>Thu, Nov 13</td>\n",
              "      <td>9717</td>\n",
              "      <td>814</td>\n",
              "      <td>NaN</td>\n",
              "      <td>NaN</td>\n",
              "    </tr>\n",
              "    <tr>\n",
              "      <th>34</th>\n",
              "      <td>Fri, Nov 14</td>\n",
              "      <td>9192</td>\n",
              "      <td>735</td>\n",
              "      <td>NaN</td>\n",
              "      <td>NaN</td>\n",
              "    </tr>\n",
              "    <tr>\n",
              "      <th>35</th>\n",
              "      <td>Sat, Nov 15</td>\n",
              "      <td>8630</td>\n",
              "      <td>743</td>\n",
              "      <td>NaN</td>\n",
              "      <td>NaN</td>\n",
              "    </tr>\n",
              "    <tr>\n",
              "      <th>36</th>\n",
              "      <td>Sun, Nov 16</td>\n",
              "      <td>8970</td>\n",
              "      <td>722</td>\n",
              "      <td>NaN</td>\n",
              "      <td>NaN</td>\n",
              "    </tr>\n",
              "  </tbody>\n",
              "</table>\n",
              "</div>"
            ],
            "text/plain": [
              "           Date  Pageviews  Clicks  Enrollments  Payments\n",
              "0   Sat, Oct 11       7723     687        134.0      70.0\n",
              "1   Sun, Oct 12       9102     779        147.0      70.0\n",
              "2   Mon, Oct 13      10511     909        167.0      95.0\n",
              "3   Tue, Oct 14       9871     836        156.0     105.0\n",
              "4   Wed, Oct 15      10014     837        163.0      64.0\n",
              "5   Thu, Oct 16       9670     823        138.0      82.0\n",
              "6   Fri, Oct 17       9008     748        146.0      76.0\n",
              "7   Sat, Oct 18       7434     632        110.0      70.0\n",
              "8   Sun, Oct 19       8459     691        131.0      60.0\n",
              "9   Mon, Oct 20      10667     861        165.0      97.0\n",
              "10  Tue, Oct 21      10660     867        196.0     105.0\n",
              "11  Wed, Oct 22       9947     838        162.0      92.0\n",
              "12  Thu, Oct 23       8324     665        127.0      56.0\n",
              "13  Fri, Oct 24       9434     673        220.0     122.0\n",
              "14  Sat, Oct 25       8687     691        176.0     128.0\n",
              "15  Sun, Oct 26       8896     708        161.0     104.0\n",
              "16  Mon, Oct 27       9535     759        233.0     124.0\n",
              "17  Tue, Oct 28       9363     736        154.0      91.0\n",
              "18  Wed, Oct 29       9327     739        196.0      86.0\n",
              "19  Thu, Oct 30       9345     734        167.0      75.0\n",
              "20  Fri, Oct 31       8890     706        174.0     101.0\n",
              "21   Sat, Nov 1       8460     681        156.0      93.0\n",
              "22   Sun, Nov 2       8836     693        206.0      67.0\n",
              "23   Mon, Nov 3       9437     788          NaN       NaN\n",
              "24   Tue, Nov 4       9420     781          NaN       NaN\n",
              "25   Wed, Nov 5       9570     805          NaN       NaN\n",
              "26   Thu, Nov 6       9921     830          NaN       NaN\n",
              "27   Fri, Nov 7       9424     781          NaN       NaN\n",
              "28   Sat, Nov 8       9010     756          NaN       NaN\n",
              "29   Sun, Nov 9       9656     825          NaN       NaN\n",
              "30  Mon, Nov 10      10419     874          NaN       NaN\n",
              "31  Tue, Nov 11       9880     830          NaN       NaN\n",
              "32  Wed, Nov 12      10134     801          NaN       NaN\n",
              "33  Thu, Nov 13       9717     814          NaN       NaN\n",
              "34  Fri, Nov 14       9192     735          NaN       NaN\n",
              "35  Sat, Nov 15       8630     743          NaN       NaN\n",
              "36  Sun, Nov 16       8970     722          NaN       NaN"
            ]
          },
          "metadata": {
            "tags": []
          },
          "execution_count": 24
        }
      ]
    },
    {
      "cell_type": "code",
      "metadata": {
        "id": "Wh9Tm4_F2v8j",
        "colab": {
          "base_uri": "https://localhost:8080/"
        },
        "outputId": "34057011-85d9-471b-d37f-c22555f78221"
      },
      "source": [
        "control.shape"
      ],
      "execution_count": null,
      "outputs": [
        {
          "output_type": "execute_result",
          "data": {
            "text/plain": [
              "(37, 5)"
            ]
          },
          "metadata": {
            "tags": []
          },
          "execution_count": 16
        }
      ]
    },
    {
      "cell_type": "code",
      "metadata": {
        "id": "nOKVGaYO23rm",
        "colab": {
          "base_uri": "https://localhost:8080/"
        },
        "outputId": "96894be1-ab03-473b-bc33-ea8eb8e5b835"
      },
      "source": [
        "treatment.shape"
      ],
      "execution_count": null,
      "outputs": [
        {
          "output_type": "execute_result",
          "data": {
            "text/plain": [
              "(37, 5)"
            ]
          },
          "metadata": {
            "tags": []
          },
          "execution_count": 17
        }
      ]
    },
    {
      "cell_type": "code",
      "metadata": {
        "id": "73d1WoGt27As"
      },
      "source": [
        ""
      ],
      "execution_count": null,
      "outputs": []
    }
  ]
}